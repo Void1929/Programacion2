{
  "nbformat": 4,
  "nbformat_minor": 0,
  "metadata": {
    "colab": {
      "name": "Pedir un numero e imprimimos la tabla de multiplicar de ese numero.ipynb",
      "provenance": [],
      "authorship_tag": "ABX9TyN11zusze7amNDJgIrpSYmV",
      "include_colab_link": true
    },
    "kernelspec": {
      "name": "python3",
      "display_name": "Python 3"
    },
    "language_info": {
      "name": "python"
    }
  },
  "cells": [
    {
      "cell_type": "markdown",
      "metadata": {
        "id": "view-in-github",
        "colab_type": "text"
      },
      "source": [
        "<a href=\"https://colab.research.google.com/github/Void1929/Programacion2/blob/main/Pedir_un_numero_e_imprimimos_la_tabla_de_multiplicar_de_ese_numero.ipynb\" target=\"_parent\"><img src=\"https://colab.research.google.com/assets/colab-badge.svg\" alt=\"Open In Colab\"/></a>"
      ]
    },
    {
      "cell_type": "markdown",
      "source": [
        "Pedir un numero e imprimimos la tabla de multiplicar de ese numero \n",
        "\n",
        "Garcia Maya Gerardo\n",
        "\n",
        "29/08/22"
      ],
      "metadata": {
        "id": "64QNtA9SFYwI"
      }
    },
    {
      "cell_type": "code",
      "execution_count": 3,
      "metadata": {
        "colab": {
          "base_uri": "https://localhost:8080/"
        },
        "id": "7yhEifi0E5gw",
        "outputId": "f6aaed88-2ef6-4e23-9658-aea420488e4d"
      },
      "outputs": [
        {
          "output_type": "stream",
          "name": "stdout",
          "text": [
            "Escribe un numero del 1 al 10: 9\n",
            "1  X  9 = 9\n",
            "2  X  9 = 18\n",
            "3  X  9 = 27\n",
            "4  X  9 = 36\n",
            "5  X  9 = 45\n",
            "6  X  9 = 54\n",
            "7  X  9 = 63\n",
            "8  X  9 = 72\n",
            "9  X  9 = 81\n",
            "10  X  9 = 90\n"
          ]
        }
      ],
      "source": [
        "i= int( input(\"Escribe un numero del 1 al 10: \"))\n",
        "for n in range(1, 11):\n",
        "  print(n,\" X \",i,\"=\",n*i)"
      ]
    }
  ]
}