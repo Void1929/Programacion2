{
  "nbformat": 4,
  "nbformat_minor": 0,
  "metadata": {
    "colab": {
      "name": "Pedir un numero e imprimimos la tabla de multiplicar de ese numero con while.ipynb",
      "provenance": [],
      "authorship_tag": "ABX9TyNs/EVNe1/wyJRRyoU0kdvr",
      "include_colab_link": true
    },
    "kernelspec": {
      "name": "python3",
      "display_name": "Python 3"
    },
    "language_info": {
      "name": "python"
    }
  },
  "cells": [
    {
      "cell_type": "markdown",
      "metadata": {
        "id": "view-in-github",
        "colab_type": "text"
      },
      "source": [
        "<a href=\"https://colab.research.google.com/github/Void1929/Programacion2/blob/main/Pedir_un_numero_e_imprimimos_la_tabla_de_multiplicar_de_ese_numero_con_while.ipynb\" target=\"_parent\"><img src=\"https://colab.research.google.com/assets/colab-badge.svg\" alt=\"Open In Colab\"/></a>"
      ]
    },
    {
      "cell_type": "markdown",
      "source": [
        "\n",
        "Pedir un numero e imprimimos la tabla de multiplicar de ese numero con while\n",
        "\n",
        "Garcia Maya Gerardo\n",
        "\n",
        "29/08/22\n",
        "\n"
      ],
      "metadata": {
        "id": "wsb2nZfMJt_Q"
      }
    },
    {
      "cell_type": "code",
      "execution_count": 3,
      "metadata": {
        "colab": {
          "base_uri": "https://localhost:8080/"
        },
        "id": "_k0TPqw4JswS",
        "outputId": "a12d77f0-0a5d-4928-ccbf-e95aaab9c148"
      },
      "outputs": [
        {
          "output_type": "stream",
          "name": "stdout",
          "text": [
            "Escribe la tabla9\n",
            "9  X  1 = 9\n",
            "9  X  2 = 18\n",
            "9  X  3 = 27\n",
            "9  X  4 = 36\n",
            "9  X  5 = 45\n",
            "9  X  6 = 54\n",
            "9  X  7 = 63\n",
            "9  X  8 = 72\n",
            "9  X  9 = 81\n",
            "9  X  10 = 90\n"
          ]
        }
      ],
      "source": [
        "i=1\n",
        "n= int (input(\"Escribe la tabla\"))\n",
        "while (i!=11):\n",
        "  print(n,\" X \",i,\"=\",n*i)\n",
        "  i=i+1\n"
      ]
    },
    {
      "cell_type": "code",
      "source": [
        ""
      ],
      "metadata": {
        "id": "bxXYERk1Lu0C"
      },
      "execution_count": null,
      "outputs": []
    }
  ]
}