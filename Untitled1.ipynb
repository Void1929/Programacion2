{
  "nbformat": 4,
  "nbformat_minor": 0,
  "metadata": {
    "colab": {
      "name": "Untitled1.ipynb",
      "provenance": [],
      "authorship_tag": "ABX9TyO4DFWGiaiMhEGuiRz1mzuH",
      "include_colab_link": true
    },
    "kernelspec": {
      "name": "python3",
      "display_name": "Python 3"
    },
    "language_info": {
      "name": "python"
    }
  },
  "cells": [
    {
      "cell_type": "markdown",
      "metadata": {
        "id": "view-in-github",
        "colab_type": "text"
      },
      "source": [
        "<a href=\"https://colab.research.google.com/github/Void1929/Programacion2/blob/main/Untitled1.ipynb\" target=\"_parent\"><img src=\"https://colab.research.google.com/assets/colab-badge.svg\" alt=\"Open In Colab\"/></a>"
      ]
    },
    {
      "cell_type": "code",
      "execution_count": null,
      "metadata": {
        "id": "zrO8djIm_775"
      },
      "outputs": [],
      "source": [
        ""
      ]
    },
    {
      "cell_type": "markdown",
      "source": [
        "Primer programa de Hola Mundo\n",
        "\n",
        "Solicitamos el nombre del usuario y lo saludamos \n",
        "\n",
        "Garcia Maya Gerardo\n",
        "\n",
        "29/08/22"
      ],
      "metadata": {
        "id": "3EZAsgr_AE_p"
      }
    },
    {
      "cell_type": "code",
      "source": [
        "nombreAlumno = input(\"Escribe tu nombre\")\n",
        "print(\"Hola \", nombreAlumno, \"¿como estas?\") "
      ],
      "metadata": {
        "colab": {
          "base_uri": "https://localhost:8080/"
        },
        "id": "l9pQAGtAAHib",
        "outputId": "ec02373d-8c84-46a5-ffc8-d69209653a45"
      },
      "execution_count": 2,
      "outputs": [
        {
          "output_type": "stream",
          "name": "stdout",
          "text": [
            "Escribe tu nombreEl kks\n",
            "Hola  El kks ¿como estas?\n"
          ]
        }
      ]
    },
    {
      "cell_type": "code",
      "source": [
        ""
      ],
      "metadata": {
        "id": "LUQ7Y3NrEyZQ"
      },
      "execution_count": null,
      "outputs": []
    }
  ]
}