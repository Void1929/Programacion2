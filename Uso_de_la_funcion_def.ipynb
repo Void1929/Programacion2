{
  "nbformat": 4,
  "nbformat_minor": 0,
  "metadata": {
    "colab": {
      "name": " Uso de la funcion def.ipynb",
      "provenance": [],
      "authorship_tag": "ABX9TyM9RmER8k7NWTB1Ht7oOhpT",
      "include_colab_link": true
    },
    "kernelspec": {
      "name": "python3",
      "display_name": "Python 3"
    },
    "language_info": {
      "name": "python"
    }
  },
  "cells": [
    {
      "cell_type": "markdown",
      "metadata": {
        "id": "view-in-github",
        "colab_type": "text"
      },
      "source": [
        "<a href=\"https://colab.research.google.com/github/Void1929/Programacion2/blob/main/Uso_de_la_funcion_def.ipynb\" target=\"_parent\"><img src=\"https://colab.research.google.com/assets/colab-badge.svg\" alt=\"Open In Colab\"/></a>"
      ]
    },
    {
      "cell_type": "markdown",
      "source": [
        "Uso de la funcion def\n",
        "\n",
        "Garcia Maya Gerardo\n",
        "\n",
        "29/08/22"
      ],
      "metadata": {
        "id": "O-mgy5oyNIYP"
      }
    },
    {
      "cell_type": "code",
      "execution_count": 3,
      "metadata": {
        "colab": {
          "base_uri": "https://localhost:8080/"
        },
        "id": "wTNSEQwINFUU",
        "outputId": "748cf008-8a30-42e1-f93c-a3fcfb2c9742"
      },
      "outputs": [
        {
          "output_type": "stream",
          "name": "stdout",
          "text": [
            "Escribe tu nombre: Gerardo\n",
            "Hola Gerardo ¿Como estas?\n"
          ]
        }
      ],
      "source": [
        "def holaMundo():\n",
        "  nombre= input (\"Escribe tu nombre: \")\n",
        "  print(\"Hola\", nombre , \"¿Como estas?\")\n",
        "\n",
        "holaMundo()"
      ]
    },
    {
      "cell_type": "markdown",
      "source": [
        "Mismo ejercicio pero con paso de parametros "
      ],
      "metadata": {
        "id": "W5pVABRsP773"
      }
    },
    {
      "cell_type": "code",
      "source": [
        "def saludo(nombre):\n",
        "   print(\"Hola\", nombre , \"¿Como estas?\")\n",
        "\n",
        "#nombre = input (\"Escribe tu nombre: \")\n",
        "     \n",
        "nombre = input (\"Escribe tu nombre: \")\n",
        "\n",
        "saludo(nombre)"
      ],
      "metadata": {
        "colab": {
          "base_uri": "https://localhost:8080/"
        },
        "id": "Rj9KcuPfPitI",
        "outputId": "8ddc6ac1-f9c5-4085-b450-6a1d8c58e2e7"
      },
      "execution_count": 6,
      "outputs": [
        {
          "output_type": "stream",
          "name": "stdout",
          "text": [
            "Escribe tu nombre: Gerardo\n",
            "Hola Gerardo ¿Como estas?\n"
          ]
        }
      ]
    }
  ]
}