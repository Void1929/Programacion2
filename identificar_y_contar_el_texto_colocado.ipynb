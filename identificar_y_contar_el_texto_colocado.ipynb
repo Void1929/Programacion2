{
  "nbformat": 4,
  "nbformat_minor": 0,
  "metadata": {
    "colab": {
      "name": "identificar y contar el texto colocado.ipynb",
      "provenance": [],
      "authorship_tag": "ABX9TyPvSiG49TWRYN2K5MJJl16Q",
      "include_colab_link": true
    },
    "kernelspec": {
      "name": "python3",
      "display_name": "Python 3"
    },
    "language_info": {
      "name": "python"
    }
  },
  "cells": [
    {
      "cell_type": "markdown",
      "metadata": {
        "id": "view-in-github",
        "colab_type": "text"
      },
      "source": [
        "<a href=\"https://colab.research.google.com/github/Void1929/Programacion2/blob/main/identificar_y_contar_el_texto_colocado.ipynb\" target=\"_parent\"><img src=\"https://colab.research.google.com/assets/colab-badge.svg\" alt=\"Open In Colab\"/></a>"
      ]
    },
    {
      "cell_type": "markdown",
      "source": [
        "identificar y contar el texto colocado\n",
        "\n",
        "Garcia Maya Gerardo\n",
        "\n",
        "29/08/22"
      ],
      "metadata": {
        "id": "uMQjpd7X6Q9x"
      }
    },
    {
      "cell_type": "code",
      "execution_count": 1,
      "metadata": {
        "colab": {
          "base_uri": "https://localhost:8080/"
        },
        "id": "2v7n9unQKsCX",
        "outputId": "66c62c34-68db-4866-fc5a-da85a7673d40"
      },
      "outputs": [
        {
          "name": "stdout",
          "output_type": "stream",
          "text": [
            " inserta un texto: Voy a hablar a hablar sin hablar Es mi voz Que surge sin control Donde esta el hombre de lata Donde estas tu\n",
            "hay 23 palabras\n",
            " Buscar: Donde\n"
          ]
        },
        {
          "output_type": "execute_result",
          "data": {
            "text/plain": [
              "2"
            ]
          },
          "metadata": {},
          "execution_count": 1
        }
      ],
      "source": [
        "text = input(\" inserta un texto: \")\n",
        "numPal = len(text.split())\n",
        "\n",
        "print(\"hay \" + str(numPal) + \" palabras\")\n",
        "text.count(text)\n",
        "\n",
        "Buscador = input(\" Buscar: \")\n",
        "numP = len(Buscador.split())\n",
        "\n",
        "text.count(Buscador)\n",
        "\n"
      ]
    }
  ]
}