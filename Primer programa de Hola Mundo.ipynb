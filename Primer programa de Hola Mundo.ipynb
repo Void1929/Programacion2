{
  "nbformat": 4,
  "nbformat_minor": 0,
  "metadata": {
    "colab": {
      "name": "Untitled0.ipynb",
      "provenance": [],
      "authorship_tag": "ABX9TyMJzG17fe5aYwrDGXq04LqB",
      "include_colab_link": true
    },
    "kernelspec": {
      "name": "python3",
      "display_name": "Python 3"
    },
    "language_info": {
      "name": "python"
    }
  },
  "cells": [
    {
      "cell_type": "markdown",
      "metadata": {
        "id": "view-in-github",
        "colab_type": "text"
      },
      "source": [
        "<a href=\"https://colab.research.google.com/github/Void1929/Programacion2/blob/main/Primer%20programa%20de%20Hola%20Mundo.ipynb\" target=\"_parent\"><img src=\"https://colab.research.google.com/assets/colab-badge.svg\" alt=\"Open In Colab\"/></a>"
      ]
    },
    {
      "cell_type": "markdown",
      "source": [
        "Primer programa de Hola Mundo\n",
        "\n",
        "Solicitamos el nombre del usuario y lo saludamos \n",
        "\n",
        "Garcia Maya Gerardo\n",
        "\n",
        "29/08/22"
      ],
      "metadata": {
        "id": "yH6bHtXn_KpI"
      }
    },
    {
      "cell_type": "code",
      "execution_count": null,
      "metadata": {
        "id": "nSwstYeK7hL-"
      },
      "outputs": [],
      "source": [
        "nombreAlumno = input(\"Escribe tu nombre\")\n",
        "print(\"Hola \", nombreAlumno, \"¿como estas?\")"
      ]
    }
  ]
}